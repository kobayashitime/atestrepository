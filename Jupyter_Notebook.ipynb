{
 "cells": [
  {
   "cell_type": "markdown",
   "id": "d4a68d8f-705a-4469-b8bf-fa59ae7efbc8",
   "metadata": {},
   "source": [
    "<center>\n",
    "    <img src=\"https://cf-courses-data.s3.us.cloud-object-storage.appdomain.cloud/IBMDeveloperSkillsNetwork-DS0105EN-SkillsNetwork/labs/Module2/images/SN_web_lightmode.png\" width=\"300\" alt=\"cognitiveclass.ai logo\"  />\n",
    "</center>"
   ]
  },
  {
   "cell_type": "markdown",
   "id": "24c56cf6-7484-4861-9302-c9fcc27f94f0",
   "metadata": {},
   "source": [
    "#### Add your code below following the instructions given in the course\n"
   ]
  },
  {
   "cell_type": "markdown",
   "id": "8411fc7a-29c0-4865-b152-c64b5841c29b",
   "metadata": {},
   "source": [
    "<h1>My Jupyter Notebook on IBM Watson Studio</h1>"
   ]
  },
  {
   "cell_type": "markdown",
   "id": "e569eac3-cd7a-4b68-bcea-62acf6d236a5",
   "metadata": {},
   "source": [
    "**Carlos Angel Kobayashi Rivas**\n"
   ]
  },
  {
   "cell_type": "markdown",
   "id": "81c2e14e-72c4-4e43-90ec-44de37518457",
   "metadata": {},
   "source": [
    "**Future programmer and data scientist**"
   ]
  },
  {
   "cell_type": "markdown",
   "id": "8b7fd5b8-435f-4fa8-8533-3610c319ac56",
   "metadata": {},
   "source": [
    "*I am interested in data science because it is a field where you can make discoveries through the data itself.*"
   ]
  },
  {
   "cell_type": "markdown",
   "id": "1e56da22-ce8e-44c8-bb66-ac05cd3a1c90",
   "metadata": {},
   "source": [
    "*There is a lot of labor demand, so I don't have to worry about getting a job like in other jobs.*"
   ]
  },
  {
   "cell_type": "markdown",
   "id": "e9c7218c-1840-4e59-af4c-3eef9b5af078",
   "metadata": {},
   "source": [
    "<h3>this is a very simple sum</h3>"
   ]
  },
  {
   "cell_type": "code",
   "execution_count": 2,
   "id": "0f3614ae-f106-4d57-8ccd-a692d6c0d6a0",
   "metadata": {},
   "outputs": [
    {
     "data": {
      "text/plain": [
       "15"
      ]
     },
     "execution_count": 2,
     "metadata": {},
     "output_type": "execute_result"
    }
   ],
   "source": [
    "n= 5\n",
    "ñ = 10\n",
    "n+ñ"
   ]
  },
  {
   "cell_type": "markdown",
   "id": "2a7bda8a-f23d-4591-b7d6-2eb6631b491e",
   "metadata": {},
   "source": [
    "* Item 1\n",
    "* Item 2\n",
    "  * Item 2a\n",
    "  * Item 2b\n",
    "  https://www.facebook.com/\n",
    "  \n",
    "**I say**\n",
    "> Hi\n",
    "\n",
    "![imagen](https://cdn.pixabay.com/photo/2015/04/23/22/00/tree-736885__480.jpg)"
   ]
  },
  {
   "cell_type": "code",
   "execution_count": null,
   "id": "dea12714-fb0a-4a3b-96b9-9d9e131f72e7",
   "metadata": {},
   "outputs": [],
   "source": []
  }
 ],
 "metadata": {
  "kernelspec": {
   "display_name": "Python",
   "language": "python",
   "name": "conda-env-python-py"
  },
  "language_info": {
   "codemirror_mode": {
    "name": "ipython",
    "version": 3
   },
   "file_extension": ".py",
   "mimetype": "text/x-python",
   "name": "python",
   "nbconvert_exporter": "python",
   "pygments_lexer": "ipython3",
   "version": "3.7.12"
  }
 },
 "nbformat": 4,
 "nbformat_minor": 5
}
